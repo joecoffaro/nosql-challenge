





from pymongo import MongoClient
import pandas as pd
from pprint import pprint


# Create an instance of MongoClient
mongo = MongoClient(port=27017)


# assign the uk_food database to a variable name
db = mongo['uk_food']


# review the collections in our database
print(db.list_collection_names())


# assign the collection to a variable
establishments = db['establishments']








# Find the establishments with a hygiene score of 20
query = {"scores.Hygiene" : {"$eq" : 20}}
bad_hygiene = establishments.find(query)

# Use count_documents to display the number of documents in the result
count_result = establishments.count_documents(query)
print("Number of documents in result:", count_result)

# Display the first document in the results using pprint
pprint(bad_hygiene[0])


hygiene_df = pd.DataFrame(bad_hygiene)

# Display the number of rows in the DataFrame
print("Rows in DataFrame: ", len(hygiene_df))

# Display the first 10 rows of the DataFrame
hygiene_df.head(10)





# Find the establishments with London as the Local Authority and has a RatingValue greater than or equal to 4.
query = {"LocalAuthorityName" : {"$regex" : "London"},
         "RatingValue"        : {"$gte"   : 4}}
london_high_rating = establishments.find(query)

# Use count_documents to display the number of documents in the result
count_result = establishments.count_documents(query)
print("Number of documents in result:", count_result)

# Display the first document in the results using pprint
pprint(london_high_rating[0])


# Convert the result to a Pandas DataFrame
london_high_rating_df = pd.DataFrame(london_high_rating)

# Display the number of rows in the DataFrame
print("Rows in DataFrame: ", len(london_high_rating_df))

# Display the first 10 rows of the DataFrame
london_high_rating_df.head(10)






# Search within 0.01 degree on either side of the latitude and longitude.
# Rating value must equal 5
# Sort by hygiene score

degree_search = 0.01
latitude = 51.49014200
longitude = 0.08384000

query = {'geocode.latitude': {'$gte':latitude-degree_search, '$lte':latitude+degree_search},
         'geocode.longitude': {'$gte': longitude-degree_search, '$lte': longitude+degree_search},
         'RatingValue': 5}
sort = [('score.Hygiene', 1)]   
limit = 5

# Print the results
pprint(list(establishments.find(query).sort(sort).limit(limit)))


# Convert result to Pandas DataFrame
penang_top_5 = establishments.find(query).sort(sort).limit(limit)
penang_top_5_df = pd.DataFrame(penang_top_5)
penang_top_5_df





# Create a pipeline that:
# 1. Matches establishments with a hygiene score of 0
match_query = {'$match': 
               {'scores.Hygiene': 
                {'$eq': 0}}}

# 2. Groups the matches by Local Authority
group_query = {'$group': 
               {'_id': "$LocalAuthorityName", 
                          'count': { '$sum': 1 }}}

# 3. Sorts the matches from highest to lowest
sort_values = {'$sort': 
               {'count': -1}} ##Sort ascending = ", 1" / sort descending = ", -1"

pipeline = [match_query, group_query, sort_values]

# Print the number of documents in the result
best_hygiene = list(establishments.aggregate(pipeline))
print("Number of documents in result: ", len(best_hygiene))

# Print the first 10 results
pprint(best_hygiene[0:10])


# Convert the result to a Pandas DataFrame
best_hygiene_df = pd.DataFrame(best_hygiene)

# Display the number of rows in the DataFrame
print("Rows in DataFrame: ", len(best_hygiene_df))

# Display the first 10 rows of the DataFrame
best_hygiene_df = best_hygiene_df.rename(columns={'count' : 'count (sort desc)'}) ##renamed column to include 'sort descending'
best_hygiene_df.head(10)



